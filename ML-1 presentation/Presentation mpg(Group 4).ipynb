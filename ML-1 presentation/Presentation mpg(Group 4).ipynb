{
 "cells": [
  {
   "cell_type": "markdown",
   "metadata": {
    "id": "VPT1Jxz4eWLO"
   },
   "source": [
    "# Importing all the required libraries"
   ]
  },
  {
   "cell_type": "code",
   "execution_count": 2,
   "metadata": {
    "id": "X7DXKdt7RXDE"
   },
   "outputs": [],
   "source": [
    "import pandas as pd \n",
    "import numpy as np\n",
    "import matplotlib.pyplot as plt\n",
    "import seaborn as sns \n",
    "from warnings import filterwarnings\n",
    "filterwarnings('ignore')\n",
    "pd.options.display.max_columns = None\n",
    "pd.options.display.max_rows = None    \n",
    "pd.options.display.float_format = '{:.6f}'.format\n",
    "from sklearn.model_selection import train_test_split\n",
    "import statsmodels\n",
    "import statsmodels.api as sm\n",
    "import statsmodels.stats.api as sms\n",
    "from statsmodels.compat import lzip\n",
    "from statsmodels.stats.outliers_influence import variance_inflation_factor\n",
    "from statsmodels.graphics.gofplots import qqplot\n",
    "from statsmodels.stats.anova import anova_lm\n",
    "from statsmodels.formula.api import ols\n",
    "from statsmodels.tools.eval_measures import rmse\n",
    "from scipy import stats\n",
    "from scipy.stats import shapiro\n",
    "from sklearn.metrics import mean_absolute_error\n",
    "from sklearn.metrics import mean_squared_error"
   ]
  },
  {
   "cell_type": "markdown",
   "metadata": {
    "id": "tiqh-YC6eWLf"
   },
   "source": [
    "# Reading the dataset"
   ]
  },
  {
   "cell_type": "code",
   "execution_count": 3,
   "metadata": {
    "colab": {
     "base_uri": "https://localhost:8080/",
     "height": 198
    },
    "id": "jkH53TsPRXDY",
    "outputId": "5ba9bc6c-5bba-45b2-84b9-c24801b6ac71",
    "scrolled": true
   },
   "outputs": [
    {
     "data": {
      "text/html": [
       "<div>\n",
       "<style scoped>\n",
       "    .dataframe tbody tr th:only-of-type {\n",
       "        vertical-align: middle;\n",
       "    }\n",
       "\n",
       "    .dataframe tbody tr th {\n",
       "        vertical-align: top;\n",
       "    }\n",
       "\n",
       "    .dataframe thead th {\n",
       "        text-align: right;\n",
       "    }\n",
       "</style>\n",
       "<table border=\"1\" class=\"dataframe\">\n",
       "  <thead>\n",
       "    <tr style=\"text-align: right;\">\n",
       "      <th></th>\n",
       "      <th>mpg</th>\n",
       "      <th>cylinders</th>\n",
       "      <th>displacement</th>\n",
       "      <th>horsepower</th>\n",
       "      <th>weight</th>\n",
       "      <th>acceleration</th>\n",
       "      <th>year</th>\n",
       "      <th>origin</th>\n",
       "      <th>name</th>\n",
       "    </tr>\n",
       "  </thead>\n",
       "  <tbody>\n",
       "    <tr>\n",
       "      <th>0</th>\n",
       "      <td>18.000000</td>\n",
       "      <td>8</td>\n",
       "      <td>307.000000</td>\n",
       "      <td>130.0</td>\n",
       "      <td>3504.000000</td>\n",
       "      <td>12.000000</td>\n",
       "      <td>70</td>\n",
       "      <td>1</td>\n",
       "      <td>chevrolet chevelle malibu</td>\n",
       "    </tr>\n",
       "    <tr>\n",
       "      <th>1</th>\n",
       "      <td>15.000000</td>\n",
       "      <td>8</td>\n",
       "      <td>350.000000</td>\n",
       "      <td>165.0</td>\n",
       "      <td>3693.000000</td>\n",
       "      <td>11.500000</td>\n",
       "      <td>70</td>\n",
       "      <td>1</td>\n",
       "      <td>buick skylark 320</td>\n",
       "    </tr>\n",
       "    <tr>\n",
       "      <th>2</th>\n",
       "      <td>18.000000</td>\n",
       "      <td>8</td>\n",
       "      <td>318.000000</td>\n",
       "      <td>150.0</td>\n",
       "      <td>3436.000000</td>\n",
       "      <td>11.000000</td>\n",
       "      <td>70</td>\n",
       "      <td>1</td>\n",
       "      <td>plymouth satellite</td>\n",
       "    </tr>\n",
       "    <tr>\n",
       "      <th>3</th>\n",
       "      <td>16.000000</td>\n",
       "      <td>8</td>\n",
       "      <td>304.000000</td>\n",
       "      <td>150.0</td>\n",
       "      <td>3433.000000</td>\n",
       "      <td>12.000000</td>\n",
       "      <td>70</td>\n",
       "      <td>1</td>\n",
       "      <td>amc rebel sst</td>\n",
       "    </tr>\n",
       "    <tr>\n",
       "      <th>4</th>\n",
       "      <td>17.000000</td>\n",
       "      <td>8</td>\n",
       "      <td>302.000000</td>\n",
       "      <td>140.0</td>\n",
       "      <td>3449.000000</td>\n",
       "      <td>10.500000</td>\n",
       "      <td>70</td>\n",
       "      <td>1</td>\n",
       "      <td>ford torino</td>\n",
       "    </tr>\n",
       "  </tbody>\n",
       "</table>\n",
       "</div>"
      ],
      "text/plain": [
       "        mpg  cylinders  displacement horsepower      weight  acceleration  \\\n",
       "0 18.000000          8    307.000000      130.0 3504.000000     12.000000   \n",
       "1 15.000000          8    350.000000      165.0 3693.000000     11.500000   \n",
       "2 18.000000          8    318.000000      150.0 3436.000000     11.000000   \n",
       "3 16.000000          8    304.000000      150.0 3433.000000     12.000000   \n",
       "4 17.000000          8    302.000000      140.0 3449.000000     10.500000   \n",
       "\n",
       "   year  origin                       name  \n",
       "0    70       1  chevrolet chevelle malibu  \n",
       "1    70       1          buick skylark 320  \n",
       "2    70       1         plymouth satellite  \n",
       "3    70       1              amc rebel sst  \n",
       "4    70       1                ford torino  "
      ]
     },
     "execution_count": 3,
     "metadata": {},
     "output_type": "execute_result"
    }
   ],
   "source": [
    "df=pd.read_csv('auto_mpg.csv',index_col=0)\n",
    "df.head()"
   ]
  },
  {
   "cell_type": "markdown",
   "metadata": {
    "id": "SJOmrRBweWLg"
   },
   "source": [
    "# Checking the datatypes and making required changes."
   ]
  },
  {
   "cell_type": "code",
   "execution_count": 4,
   "metadata": {
    "colab": {
     "base_uri": "https://localhost:8080/"
    },
    "id": "WWl3sNKGRXDb",
    "outputId": "964afffa-b1db-478a-dc44-a9dfaab06d48",
    "scrolled": true
   },
   "outputs": [
    {
     "data": {
      "text/plain": [
       "mpg             129\n",
       "cylinders         5\n",
       "displacement     82\n",
       "horsepower       94\n",
       "weight          351\n",
       "acceleration     95\n",
       "year             13\n",
       "origin            3\n",
       "name            305\n",
       "dtype: int64"
      ]
     },
     "execution_count": 4,
     "metadata": {},
     "output_type": "execute_result"
    }
   ],
   "source": [
    "df.nunique()"
   ]
  },
  {
   "cell_type": "code",
   "execution_count": 5,
   "metadata": {
    "colab": {
     "base_uri": "https://localhost:8080/"
    },
    "id": "XGnQJEVXRXDd",
    "outputId": "870fe91a-957e-4093-c81c-7db77029bdfb"
   },
   "outputs": [
    {
     "name": "stdout",
     "output_type": "stream",
     "text": [
      "<class 'pandas.core.frame.DataFrame'>\n",
      "Int64Index: 398 entries, 0 to 397\n",
      "Data columns (total 9 columns):\n",
      " #   Column        Non-Null Count  Dtype  \n",
      "---  ------        --------------  -----  \n",
      " 0   mpg           398 non-null    float64\n",
      " 1   cylinders     398 non-null    int64  \n",
      " 2   displacement  398 non-null    float64\n",
      " 3   horsepower    398 non-null    object \n",
      " 4   weight        398 non-null    float64\n",
      " 5   acceleration  398 non-null    float64\n",
      " 6   year          398 non-null    int64  \n",
      " 7   origin        398 non-null    int64  \n",
      " 8   name          398 non-null    object \n",
      "dtypes: float64(4), int64(3), object(2)\n",
      "memory usage: 31.1+ KB\n"
     ]
    }
   ],
   "source": [
    "df.info()"
   ]
  },
  {
   "cell_type": "markdown",
   "metadata": {
    "id": "Gs_gis2Ak38h"
   },
   "source": [
    "- >**Changing the datatype of the Horsepower column from 'object' to 'float'.**"
   ]
  },
  {
   "cell_type": "code",
   "execution_count": 6,
   "metadata": {
    "id": "YrpArKtuRXDe"
   },
   "outputs": [],
   "source": [
    "df.horsepower = pd.to_numeric(df.horsepower, errors='coerce')"
   ]
  },
  {
   "cell_type": "code",
   "execution_count": 7,
   "metadata": {
    "colab": {
     "base_uri": "https://localhost:8080/"
    },
    "id": "JKiYgSaRRXDe",
    "outputId": "6d51d9fe-fd1f-4b12-84af-fa9edd3b6a6f"
   },
   "outputs": [
    {
     "name": "stdout",
     "output_type": "stream",
     "text": [
      "<class 'pandas.core.frame.DataFrame'>\n",
      "Int64Index: 398 entries, 0 to 397\n",
      "Data columns (total 9 columns):\n",
      " #   Column        Non-Null Count  Dtype  \n",
      "---  ------        --------------  -----  \n",
      " 0   mpg           398 non-null    float64\n",
      " 1   cylinders     398 non-null    int64  \n",
      " 2   displacement  398 non-null    float64\n",
      " 3   horsepower    392 non-null    float64\n",
      " 4   weight        398 non-null    float64\n",
      " 5   acceleration  398 non-null    float64\n",
      " 6   year          398 non-null    int64  \n",
      " 7   origin        398 non-null    int64  \n",
      " 8   name          398 non-null    object \n",
      "dtypes: float64(5), int64(3), object(1)\n",
      "memory usage: 31.1+ KB\n"
     ]
    }
   ],
   "source": [
    "df.info()"
   ]
  },
  {
   "cell_type": "code",
   "execution_count": 8,
   "metadata": {
    "colab": {
     "base_uri": "https://localhost:8080/"
    },
    "id": "BOFx0TeHRXDf",
    "outputId": "e2bfdc64-1f03-49ff-9c73-6a81b19e6e6a"
   },
   "outputs": [
    {
     "data": {
      "text/plain": [
       "Index(['mpg', 'cylinders', 'displacement', 'horsepower', 'weight',\n",
       "       'acceleration', 'year', 'origin', 'name'],\n",
       "      dtype='object')"
      ]
     },
     "execution_count": 8,
     "metadata": {},
     "output_type": "execute_result"
    }
   ],
   "source": [
    "df.columns"
   ]
  },
  {
   "cell_type": "code",
   "execution_count": 9,
   "metadata": {
    "colab": {
     "base_uri": "https://localhost:8080/",
     "height": 198
    },
    "id": "f1eqhy_KRXDj",
    "outputId": "2646ee0e-b51b-4fdc-e7a0-2496d1537d1b"
   },
   "outputs": [
    {
     "data": {
      "text/html": [
       "<div>\n",
       "<style scoped>\n",
       "    .dataframe tbody tr th:only-of-type {\n",
       "        vertical-align: middle;\n",
       "    }\n",
       "\n",
       "    .dataframe tbody tr th {\n",
       "        vertical-align: top;\n",
       "    }\n",
       "\n",
       "    .dataframe thead th {\n",
       "        text-align: right;\n",
       "    }\n",
       "</style>\n",
       "<table border=\"1\" class=\"dataframe\">\n",
       "  <thead>\n",
       "    <tr style=\"text-align: right;\">\n",
       "      <th></th>\n",
       "      <th>mpg</th>\n",
       "      <th>cylinders</th>\n",
       "      <th>displacement</th>\n",
       "      <th>horsepower</th>\n",
       "      <th>weight</th>\n",
       "      <th>acceleration</th>\n",
       "      <th>year</th>\n",
       "      <th>origin</th>\n",
       "    </tr>\n",
       "  </thead>\n",
       "  <tbody>\n",
       "    <tr>\n",
       "      <th>0</th>\n",
       "      <td>18.000000</td>\n",
       "      <td>8</td>\n",
       "      <td>307.000000</td>\n",
       "      <td>130.000000</td>\n",
       "      <td>3504.000000</td>\n",
       "      <td>12.000000</td>\n",
       "      <td>70</td>\n",
       "      <td>1</td>\n",
       "    </tr>\n",
       "    <tr>\n",
       "      <th>1</th>\n",
       "      <td>15.000000</td>\n",
       "      <td>8</td>\n",
       "      <td>350.000000</td>\n",
       "      <td>165.000000</td>\n",
       "      <td>3693.000000</td>\n",
       "      <td>11.500000</td>\n",
       "      <td>70</td>\n",
       "      <td>1</td>\n",
       "    </tr>\n",
       "    <tr>\n",
       "      <th>2</th>\n",
       "      <td>18.000000</td>\n",
       "      <td>8</td>\n",
       "      <td>318.000000</td>\n",
       "      <td>150.000000</td>\n",
       "      <td>3436.000000</td>\n",
       "      <td>11.000000</td>\n",
       "      <td>70</td>\n",
       "      <td>1</td>\n",
       "    </tr>\n",
       "    <tr>\n",
       "      <th>3</th>\n",
       "      <td>16.000000</td>\n",
       "      <td>8</td>\n",
       "      <td>304.000000</td>\n",
       "      <td>150.000000</td>\n",
       "      <td>3433.000000</td>\n",
       "      <td>12.000000</td>\n",
       "      <td>70</td>\n",
       "      <td>1</td>\n",
       "    </tr>\n",
       "    <tr>\n",
       "      <th>4</th>\n",
       "      <td>17.000000</td>\n",
       "      <td>8</td>\n",
       "      <td>302.000000</td>\n",
       "      <td>140.000000</td>\n",
       "      <td>3449.000000</td>\n",
       "      <td>10.500000</td>\n",
       "      <td>70</td>\n",
       "      <td>1</td>\n",
       "    </tr>\n",
       "  </tbody>\n",
       "</table>\n",
       "</div>"
      ],
      "text/plain": [
       "        mpg  cylinders  displacement  horsepower      weight  acceleration  \\\n",
       "0 18.000000          8    307.000000  130.000000 3504.000000     12.000000   \n",
       "1 15.000000          8    350.000000  165.000000 3693.000000     11.500000   \n",
       "2 18.000000          8    318.000000  150.000000 3436.000000     11.000000   \n",
       "3 16.000000          8    304.000000  150.000000 3433.000000     12.000000   \n",
       "4 17.000000          8    302.000000  140.000000 3449.000000     10.500000   \n",
       "\n",
       "   year  origin  \n",
       "0    70       1  \n",
       "1    70       1  \n",
       "2    70       1  \n",
       "3    70       1  \n",
       "4    70       1  "
      ]
     },
     "execution_count": 9,
     "metadata": {},
     "output_type": "execute_result"
    }
   ],
   "source": [
    "# drop the column 'name' using drop()\n",
    "df = df.drop('name',axis=1)\n",
    "df.head()"
   ]
  },
  {
   "cell_type": "markdown",
   "metadata": {
    "id": "S8HO6IHNRXDk"
   },
   "source": [
    "# Checking for  missing values and removing outliers if any."
   ]
  },
  {
   "cell_type": "code",
   "execution_count": 10,
   "metadata": {
    "colab": {
     "base_uri": "https://localhost:8080/",
     "height": 288
    },
    "id": "rEhJwWO7RXDk",
    "outputId": "46149ca1-4e16-4002-cf61-7d1b97f4cc42"
   },
   "outputs": [
    {
     "data": {
      "text/html": [
       "<div>\n",
       "<style scoped>\n",
       "    .dataframe tbody tr th:only-of-type {\n",
       "        vertical-align: middle;\n",
       "    }\n",
       "\n",
       "    .dataframe tbody tr th {\n",
       "        vertical-align: top;\n",
       "    }\n",
       "\n",
       "    .dataframe thead th {\n",
       "        text-align: right;\n",
       "    }\n",
       "</style>\n",
       "<table border=\"1\" class=\"dataframe\">\n",
       "  <thead>\n",
       "    <tr style=\"text-align: right;\">\n",
       "      <th></th>\n",
       "      <th>Total</th>\n",
       "      <th>Percentage of Missing Values</th>\n",
       "    </tr>\n",
       "  </thead>\n",
       "  <tbody>\n",
       "    <tr>\n",
       "      <th>horsepower</th>\n",
       "      <td>6</td>\n",
       "      <td>1.507538</td>\n",
       "    </tr>\n",
       "    <tr>\n",
       "      <th>origin</th>\n",
       "      <td>0</td>\n",
       "      <td>0.000000</td>\n",
       "    </tr>\n",
       "    <tr>\n",
       "      <th>year</th>\n",
       "      <td>0</td>\n",
       "      <td>0.000000</td>\n",
       "    </tr>\n",
       "    <tr>\n",
       "      <th>acceleration</th>\n",
       "      <td>0</td>\n",
       "      <td>0.000000</td>\n",
       "    </tr>\n",
       "    <tr>\n",
       "      <th>weight</th>\n",
       "      <td>0</td>\n",
       "      <td>0.000000</td>\n",
       "    </tr>\n",
       "    <tr>\n",
       "      <th>displacement</th>\n",
       "      <td>0</td>\n",
       "      <td>0.000000</td>\n",
       "    </tr>\n",
       "    <tr>\n",
       "      <th>cylinders</th>\n",
       "      <td>0</td>\n",
       "      <td>0.000000</td>\n",
       "    </tr>\n",
       "    <tr>\n",
       "      <th>mpg</th>\n",
       "      <td>0</td>\n",
       "      <td>0.000000</td>\n",
       "    </tr>\n",
       "  </tbody>\n",
       "</table>\n",
       "</div>"
      ],
      "text/plain": [
       "              Total  Percentage of Missing Values\n",
       "horsepower        6                      1.507538\n",
       "origin            0                      0.000000\n",
       "year              0                      0.000000\n",
       "acceleration      0                      0.000000\n",
       "weight            0                      0.000000\n",
       "displacement      0                      0.000000\n",
       "cylinders         0                      0.000000\n",
       "mpg               0                      0.000000"
      ]
     },
     "execution_count": 10,
     "metadata": {},
     "output_type": "execute_result"
    }
   ],
   "source": [
    "Total = df.isnull().sum().sort_values(ascending=False)          \n",
    "Percent = (df.isnull().sum()*100/df.isnull().count()).sort_values(ascending=False)   \n",
    "missing_data = pd.concat([Total, Percent], axis=1, keys=['Total', 'Percentage of Missing Values'])    \n",
    "missing_data"
   ]
  },
  {
   "cell_type": "code",
   "execution_count": 11,
   "metadata": {
    "colab": {
     "base_uri": "https://localhost:8080/"
    },
    "id": "pCB1BWuXRXDl",
    "outputId": "6e0518f1-59e6-485b-bbe6-966472a70002"
   },
   "outputs": [
    {
     "data": {
      "text/plain": [
       "(398, 8)"
      ]
     },
     "execution_count": 11,
     "metadata": {},
     "output_type": "execute_result"
    }
   ],
   "source": [
    "df.shape"
   ]
  },
  {
   "cell_type": "code",
   "execution_count": 12,
   "metadata": {
    "id": "oPcluC_5RXDm"
   },
   "outputs": [],
   "source": [
    "df.dropna(inplace=True)"
   ]
  },
  {
   "cell_type": "code",
   "execution_count": 13,
   "metadata": {
    "colab": {
     "base_uri": "https://localhost:8080/"
    },
    "id": "x5U__8CyRXDn",
    "outputId": "56a2e13b-ba52-4746-bc77-da0c85192306"
   },
   "outputs": [
    {
     "data": {
      "text/plain": [
       "(392, 8)"
      ]
     },
     "execution_count": 13,
     "metadata": {},
     "output_type": "execute_result"
    }
   ],
   "source": [
    "df.shape"
   ]
  },
  {
   "cell_type": "code",
   "execution_count": 14,
   "metadata": {
    "colab": {
     "base_uri": "https://localhost:8080/",
     "height": 501
    },
    "id": "cOUQfUu-RXDo",
    "outputId": "78c5e0fc-aeea-47b6-e10c-1cf25cddc958"
   },
   "outputs": [
    {
     "data": {
      "text/plain": [
       "<AxesSubplot:>"
      ]
     },
     "execution_count": 14,
     "metadata": {},
     "output_type": "execute_result"
    },
    {
     "data": {
      "image/png": "[encoded data removed]",
      "text/plain": [
       "<Figure size 1080x576 with 1 Axes>"
      ]
     },
     "metadata": {
      "needs_background": "light"
     },
     "output_type": "display_data"
    }
   ],
   "source": [
    "plt.figure(figsize = (15,8))\n",
    "sns.boxplot(data=df)"
   ]
  },
  {
   "cell_type": "markdown",
   "metadata": {
    "id": "OZz2Cgr6RXDo"
   },
   "source": [
    "- > **Since the graph is very unclear, we will do a boxplot by exclusing the variable 'weight' as we can see that it has no outliers**"
   ]
  },
  {
   "cell_type": "code",
   "execution_count": 15,
   "metadata": {
    "colab": {
     "base_uri": "https://localhost:8080/",
     "height": 501
    },
    "id": "63K5ricPRXDp",
    "outputId": "8e8e6a38-6460-4023-d338-fdc0798098ce"
   },
   "outputs": [
    {
     "data": {
      "text/plain": [
       "<AxesSubplot:>"
      ]
     },
     "execution_count": 15,
     "metadata": {},
     "output_type": "execute_result"
    },
    {
     "data": {
      "image/png": "[encoded data removed]",
      "text/plain": [
       "<Figure size 1080x576 with 1 Axes>"
      ]
     },
     "metadata": {
      "needs_background": "light"
     },
     "output_type": "display_data"
    }
   ],
   "source": [
    "df1=df.drop('weight',axis=1)\n",
    "plt.figure(figsize = (15,8))\n",
    "df1.boxplot()"
   ]
  },
  {
   "cell_type": "code",
   "execution_count": 16,
   "metadata": {
    "colab": {
     "base_uri": "https://localhost:8080/"
    },
    "id": "Z3xQ1CCzRXDp",
    "outputId": "4ec52660-cc20-4a59-aceb-14c7ff90321e"
   },
   "outputs": [
    {
     "data": {
      "text/plain": [
       "(392, 8)"
      ]
     },
     "execution_count": 16,
     "metadata": {},
     "output_type": "execute_result"
    }
   ],
   "source": [
    "df.shape"
   ]
  },
  {
   "cell_type": "code",
   "execution_count": 17,
   "metadata": {
    "colab": {
     "base_uri": "https://localhost:8080/"
    },
    "id": "N9R6DSspRXDq",
    "outputId": "b56c6543-25b0-4704-d024-8db8f442d60e"
   },
   "outputs": [
    {
     "data": {
      "text/plain": [
       "(372, 8)"
      ]
     },
     "execution_count": 17,
     "metadata": {},
     "output_type": "execute_result"
    }
   ],
   "source": [
    "# Removing the outliers from all variables\n",
    "\n",
    "Q1 = df.quantile(0.25)\n",
    "Q3 = df.quantile(0.75)\n",
    "IQR = Q3 - Q1\n",
    "\n",
    "df = df[~((df < (Q1 - 1.5 * IQR)) | (df > (Q3 + 1.5 * IQR))).any(axis=1)]\n",
    "df.shape"
   ]
  },
  {
   "cell_type": "markdown",
   "metadata": {
    "id": "9n3FoHh0RXDr"
   },
   "source": [
    "- >**Here, from the new shape obtained we can see that 20 outliers has been removed.**"
   ]
  },
  {
   "cell_type": "markdown",
   "metadata": {
    "id": "XSTmxOxzk38n"
   },
   "source": [
    "# Correlation Matrix"
   ]
  },
  {
   "cell_type": "code",
   "execution_count": 18,
   "metadata": {
    "id": "6_MhdkULjE7q"
   },
   "outputs": [],
   "source": [
    "dfa= df.drop(['year','cylinders','origin'],axis=1)"
   ]
  },
  {
   "cell_type": "code",
   "execution_count": 19,
   "metadata": {
    "colab": {
     "base_uri": "https://localhost:8080/",
     "height": 288
    },
    "id": "r8EQZhpLk38o",
    "outputId": "7c29bec7-c309-40a9-bf8d-ed314033df76",
    "scrolled": true
   },
   "outputs": [
    {
     "data": {
      "text/html": [
       "<div>\n",
       "<style scoped>\n",
       "    .dataframe tbody tr th:only-of-type {\n",
       "        vertical-align: middle;\n",
       "    }\n",
       "\n",
       "    .dataframe tbody tr th {\n",
       "        vertical-align: top;\n",
       "    }\n",
       "\n",
       "    .dataframe thead th {\n",
       "        text-align: right;\n",
       "    }\n",
       "</style>\n",
       "<table border=\"1\" class=\"dataframe\">\n",
       "  <thead>\n",
       "    <tr style=\"text-align: right;\">\n",
       "      <th></th>\n",
       "      <th>mpg</th>\n",
       "      <th>displacement</th>\n",
       "      <th>horsepower</th>\n",
       "      <th>weight</th>\n",
       "      <th>acceleration</th>\n",
       "    </tr>\n",
       "  </thead>\n",
       "  <tbody>\n",
       "    <tr>\n",
       "      <th>count</th>\n",
       "      <td>372.000000</td>\n",
       "      <td>372.000000</td>\n",
       "      <td>372.000000</td>\n",
       "      <td>372.000000</td>\n",
       "      <td>372.000000</td>\n",
       "    </tr>\n",
       "    <tr>\n",
       "      <th>mean</th>\n",
       "      <td>23.652688</td>\n",
       "      <td>188.939516</td>\n",
       "      <td>101.879032</td>\n",
       "      <td>2944.045699</td>\n",
       "      <td>15.546237</td>\n",
       "    </tr>\n",
       "    <tr>\n",
       "      <th>std</th>\n",
       "      <td>7.632497</td>\n",
       "      <td>98.717407</td>\n",
       "      <td>33.661689</td>\n",
       "      <td>829.283502</td>\n",
       "      <td>2.402304</td>\n",
       "    </tr>\n",
       "    <tr>\n",
       "      <th>min</th>\n",
       "      <td>9.000000</td>\n",
       "      <td>68.000000</td>\n",
       "      <td>46.000000</td>\n",
       "      <td>1613.000000</td>\n",
       "      <td>9.500000</td>\n",
       "    </tr>\n",
       "    <tr>\n",
       "      <th>25%</th>\n",
       "      <td>17.600000</td>\n",
       "      <td>105.000000</td>\n",
       "      <td>75.750000</td>\n",
       "      <td>2220.000000</td>\n",
       "      <td>14.000000</td>\n",
       "    </tr>\n",
       "    <tr>\n",
       "      <th>50%</th>\n",
       "      <td>23.000000</td>\n",
       "      <td>146.000000</td>\n",
       "      <td>92.000000</td>\n",
       "      <td>2764.500000</td>\n",
       "      <td>15.500000</td>\n",
       "    </tr>\n",
       "    <tr>\n",
       "      <th>75%</th>\n",
       "      <td>29.125000</td>\n",
       "      <td>258.000000</td>\n",
       "      <td>120.000000</td>\n",
       "      <td>3542.000000</td>\n",
       "      <td>17.000000</td>\n",
       "    </tr>\n",
       "    <tr>\n",
       "      <th>max</th>\n",
       "      <td>46.600000</td>\n",
       "      <td>429.000000</td>\n",
       "      <td>200.000000</td>\n",
       "      <td>5140.000000</td>\n",
       "      <td>21.800000</td>\n",
       "    </tr>\n",
       "  </tbody>\n",
       "</table>\n",
       "</div>"
      ],
      "text/plain": [
       "             mpg  displacement  horsepower      weight  acceleration\n",
       "count 372.000000    372.000000  372.000000  372.000000    372.000000\n",
       "mean   23.652688    188.939516  101.879032 2944.045699     15.546237\n",
       "std     7.632497     98.717407   33.661689  829.283502      2.402304\n",
       "min     9.000000     68.000000   46.000000 1613.000000      9.500000\n",
       "25%    17.600000    105.000000   75.750000 2220.000000     14.000000\n",
       "50%    23.000000    146.000000   92.000000 2764.500000     15.500000\n",
       "75%    29.125000    258.000000  120.000000 3542.000000     17.000000\n",
       "max    46.600000    429.000000  200.000000 5140.000000     21.800000"
      ]
     },
     "execution_count": 19,
     "metadata": {},
     "output_type": "execute_result"
    }
   ],
   "source": [
    "dfa.describe()"
   ]
  },
  {
   "cell_type": "code",
   "execution_count": 20,
   "metadata": {
    "colab": {
     "base_uri": "https://localhost:8080/",
     "height": 453
    },
    "id": "GKXNTj6Ak38o",
    "outputId": "1d527f6f-24c2-47c4-eb06-24f9c7af1327"
   },
   "outputs": [
    {
     "data": {
      "text/plain": [
       "<AxesSubplot:>"
      ]
     },
     "execution_count": 20,
     "metadata": {},
     "output_type": "execute_result"
    },
    {
     "data": {
      "image/png": "[encoded data removed]",
      "text/plain": [
       "<Figure size 504x432 with 2 Axes>"
      ]
     },
     "metadata": {
      "needs_background": "light"
     },
     "output_type": "display_data"
    }
   ],
   "source": [
    "plt.figure(figsize=(7,6))\n",
    "sns.heatmap(dfa.corr(),annot=True,cmap='Blues')"
   ]
  },
  {
   "cell_type": "markdown",
   "metadata": {
    "id": "xemeEXinRXDr"
   },
   "source": [
    "# Normalizing the data"
   ]
  },
  {
   "cell_type": "code",
   "execution_count": 21,
   "metadata": {
    "colab": {
     "base_uri": "https://localhost:8080/"
    },
    "id": "sYvTn8eDRXDr",
    "outputId": "acb5c4d0-053a-4393-bba0-85ad8cecf32c",
    "scrolled": true
   },
   "outputs": [
    {
     "name": "stdout",
     "output_type": "stream",
     "text": [
      "Shapiro test for mpg\n",
      "ShapiroResult(statistic=0.968883216381073, pvalue=3.915240824881039e-07) \n",
      "\n",
      "Shapiro test for displacement\n",
      "ShapiroResult(statistic=0.8805570602416992, pvalue=2.158252125702574e-16) \n",
      "\n",
      "Shapiro test for horsepower\n",
      "ShapiroResult(statistic=0.9209126830101013, pvalue=4.287764533619093e-13) \n",
      "\n",
      "Shapiro test for weight\n",
      "ShapiroResult(statistic=0.9426375031471252, pvalue=8.293415953986027e-11) \n",
      "\n",
      "Shapiro test for acceleration\n",
      "ShapiroResult(statistic=0.9929425716400146, pvalue=0.07763781398534775) \n",
      "\n"
     ]
    }
   ],
   "source": [
    "col_list=dfa.columns\n",
    "col_list\n",
    "for i in range(5):\n",
    "    print('Shapiro test for',col_list[i])\n",
    "    print(shapiro(dfa[col_list[i]]),'\\n')\n",
    "    "
   ]
  },
  {
   "cell_type": "markdown",
   "metadata": {
    "id": "FP1YIGFNRXDs"
   },
   "source": [
    "- >**Since, only 'acceleration' column is normally distributed, we will use MinMax Transformation for all columns.**"
   ]
  },
  {
   "cell_type": "code",
   "execution_count": 22,
   "metadata": {
    "colab": {
     "base_uri": "https://localhost:8080/"
    },
    "id": "lm1jiQLMj-K1",
    "outputId": "c4cd038a-c658-4196-b4fa-c9f3d477c6dd"
   },
   "outputs": [
    {
     "data": {
      "text/plain": [
       "Index(['mpg', 'cylinders', 'displacement', 'horsepower', 'weight',\n",
       "       'acceleration', 'year', 'origin'],\n",
       "      dtype='object')"
      ]
     },
     "execution_count": 22,
     "metadata": {},
     "output_type": "execute_result"
    }
   ],
   "source": [
    "df.columns"
   ]
  },
  {
   "cell_type": "code",
   "execution_count": 23,
   "metadata": {
    "id": "5o37QcqqRXDt"
   },
   "outputs": [],
   "source": [
    "from sklearn.preprocessing import MinMaxScaler\n",
    "\n",
    "min_max = MinMaxScaler()\n",
    "\n",
    "df['cylinders'] = min_max.fit_transform(df[['cylinders']])\n",
    "df['displacement'] = min_max.fit_transform(df[['displacement']])\n",
    "df['horsepower'] = min_max.fit_transform(df[['horsepower']])\n",
    "df['weight'] = min_max.fit_transform(df[['weight']])\n",
    "df['acceleration'] = min_max.fit_transform(df[['acceleration']])\n",
    "df['year'] = min_max.fit_transform(df[['year']])\n",
    "df['origin'] = min_max.fit_transform(df[['origin']])\n",
    "df['mpg'] = min_max.fit_transform(df[['mpg']])"
   ]
  },
  {
   "cell_type": "code",
   "execution_count": 24,
   "metadata": {
    "colab": {
     "base_uri": "https://localhost:8080/",
     "height": 288
    },
    "id": "qx_MxoloRXDu",
    "outputId": "ea5af6da-e761-462d-a68c-8a0cee0f4182"
   },
   "outputs": [
    {
     "data": {
      "text/html": [
       "<div>\n",
       "<style scoped>\n",
       "    .dataframe tbody tr th:only-of-type {\n",
       "        vertical-align: middle;\n",
       "    }\n",
       "\n",
       "    .dataframe tbody tr th {\n",
       "        vertical-align: top;\n",
       "    }\n",
       "\n",
       "    .dataframe thead th {\n",
       "        text-align: right;\n",
       "    }\n",
       "</style>\n",
       "<table border=\"1\" class=\"dataframe\">\n",
       "  <thead>\n",
       "    <tr style=\"text-align: right;\">\n",
       "      <th></th>\n",
       "      <th>mpg</th>\n",
       "      <th>cylinders</th>\n",
       "      <th>displacement</th>\n",
       "      <th>horsepower</th>\n",
       "      <th>weight</th>\n",
       "      <th>acceleration</th>\n",
       "      <th>year</th>\n",
       "      <th>origin</th>\n",
       "    </tr>\n",
       "  </thead>\n",
       "  <tbody>\n",
       "    <tr>\n",
       "      <th>count</th>\n",
       "      <td>372.000000</td>\n",
       "      <td>372.000000</td>\n",
       "      <td>372.000000</td>\n",
       "      <td>372.000000</td>\n",
       "      <td>372.000000</td>\n",
       "      <td>372.000000</td>\n",
       "      <td>372.000000</td>\n",
       "      <td>372.000000</td>\n",
       "    </tr>\n",
       "    <tr>\n",
       "      <th>mean</th>\n",
       "      <td>0.389699</td>\n",
       "      <td>0.482258</td>\n",
       "      <td>0.335013</td>\n",
       "      <td>0.362851</td>\n",
       "      <td>0.377387</td>\n",
       "      <td>0.491564</td>\n",
       "      <td>0.509185</td>\n",
       "      <td>0.297043</td>\n",
       "    </tr>\n",
       "    <tr>\n",
       "      <th>std</th>\n",
       "      <td>0.202992</td>\n",
       "      <td>0.334547</td>\n",
       "      <td>0.273455</td>\n",
       "      <td>0.218582</td>\n",
       "      <td>0.235124</td>\n",
       "      <td>0.195309</td>\n",
       "      <td>0.302372</td>\n",
       "      <td>0.408557</td>\n",
       "    </tr>\n",
       "    <tr>\n",
       "      <th>min</th>\n",
       "      <td>0.000000</td>\n",
       "      <td>0.000000</td>\n",
       "      <td>0.000000</td>\n",
       "      <td>0.000000</td>\n",
       "      <td>0.000000</td>\n",
       "      <td>0.000000</td>\n",
       "      <td>0.000000</td>\n",
       "      <td>0.000000</td>\n",
       "    </tr>\n",
       "    <tr>\n",
       "      <th>25%</th>\n",
       "      <td>0.228723</td>\n",
       "      <td>0.200000</td>\n",
       "      <td>0.102493</td>\n",
       "      <td>0.193182</td>\n",
       "      <td>0.172101</td>\n",
       "      <td>0.365854</td>\n",
       "      <td>0.250000</td>\n",
       "      <td>0.000000</td>\n",
       "    </tr>\n",
       "    <tr>\n",
       "      <th>50%</th>\n",
       "      <td>0.372340</td>\n",
       "      <td>0.200000</td>\n",
       "      <td>0.216066</td>\n",
       "      <td>0.298701</td>\n",
       "      <td>0.326481</td>\n",
       "      <td>0.487805</td>\n",
       "      <td>0.500000</td>\n",
       "      <td>0.000000</td>\n",
       "    </tr>\n",
       "    <tr>\n",
       "      <th>75%</th>\n",
       "      <td>0.535239</td>\n",
       "      <td>0.600000</td>\n",
       "      <td>0.526316</td>\n",
       "      <td>0.480519</td>\n",
       "      <td>0.546924</td>\n",
       "      <td>0.609756</td>\n",
       "      <td>0.750000</td>\n",
       "      <td>0.500000</td>\n",
       "    </tr>\n",
       "    <tr>\n",
       "      <th>max</th>\n",
       "      <td>1.000000</td>\n",
       "      <td>1.000000</td>\n",
       "      <td>1.000000</td>\n",
       "      <td>1.000000</td>\n",
       "      <td>1.000000</td>\n",
       "      <td>1.000000</td>\n",
       "      <td>1.000000</td>\n",
       "      <td>1.000000</td>\n",
       "    </tr>\n",
       "  </tbody>\n",
       "</table>\n",
       "</div>"
      ],
      "text/plain": [
       "             mpg  cylinders  displacement  horsepower     weight  \\\n",
       "count 372.000000 372.000000    372.000000  372.000000 372.000000   \n",
       "mean    0.389699   0.482258      0.335013    0.362851   0.377387   \n",
       "std     0.202992   0.334547      0.273455    0.218582   0.235124   \n",
       "min     0.000000   0.000000      0.000000    0.000000   0.000000   \n",
       "25%     0.228723   0.200000      0.102493    0.193182   0.172101   \n",
       "50%     0.372340   0.200000      0.216066    0.298701   0.326481   \n",
       "75%     0.535239   0.600000      0.526316    0.480519   0.546924   \n",
       "max     1.000000   1.000000      1.000000    1.000000   1.000000   \n",
       "\n",
       "       acceleration       year     origin  \n",
       "count    372.000000 372.000000 372.000000  \n",
       "mean       0.491564   0.509185   0.297043  \n",
       "std        0.195309   0.302372   0.408557  \n",
       "min        0.000000   0.000000   0.000000  \n",
       "25%        0.365854   0.250000   0.000000  \n",
       "50%        0.487805   0.500000   0.000000  \n",
       "75%        0.609756   0.750000   0.500000  \n",
       "max        1.000000   1.000000   1.000000  "
      ]
     },
     "execution_count": 24,
     "metadata": {},
     "output_type": "execute_result"
    }
   ],
   "source": [
    "df.describe()"
   ]
  },
  {
   "cell_type": "markdown",
   "metadata": {
    "id": "ME7uJJjTRXDv"
   },
   "source": [
    "- >**Here, we can see from the min and max values of the variables have been normalised as all of their ranges now range from (0,1).**"
   ]
  },
  {
   "cell_type": "markdown",
   "metadata": {
    "id": "PBJOqxTqRXDw"
   },
   "source": [
    "# Checking for Multicollinearity"
   ]
  },
  {
   "cell_type": "code",
   "execution_count": 25,
   "metadata": {
    "id": "BsVK7FO3RXDv"
   },
   "outputs": [],
   "source": [
    "df_feature = df.drop('mpg' ,axis = 1)"
   ]
  },
  {
   "cell_type": "code",
   "execution_count": 26,
   "metadata": {
    "colab": {
     "base_uri": "https://localhost:8080/",
     "height": 258
    },
    "id": "lbx3P5ZBRXDw",
    "outputId": "68f27388-cbdb-48bd-ef55-6dc1599011e4",
    "scrolled": false
   },
   "outputs": [
    {
     "data": {
      "text/html": [
       "<div>\n",
       "<style scoped>\n",
       "    .dataframe tbody tr th:only-of-type {\n",
       "        vertical-align: middle;\n",
       "    }\n",
       "\n",
       "    .dataframe tbody tr th {\n",
       "        vertical-align: top;\n",
       "    }\n",
       "\n",
       "    .dataframe thead th {\n",
       "        text-align: right;\n",
       "    }\n",
       "</style>\n",
       "<table border=\"1\" class=\"dataframe\">\n",
       "  <thead>\n",
       "    <tr style=\"text-align: right;\">\n",
       "      <th></th>\n",
       "      <th>VIF_Factor</th>\n",
       "      <th>Features</th>\n",
       "    </tr>\n",
       "  </thead>\n",
       "  <tbody>\n",
       "    <tr>\n",
       "      <th>0</th>\n",
       "      <td>58.544132</td>\n",
       "      <td>displacement</td>\n",
       "    </tr>\n",
       "    <tr>\n",
       "      <th>1</th>\n",
       "      <td>43.378281</td>\n",
       "      <td>weight</td>\n",
       "    </tr>\n",
       "    <tr>\n",
       "      <th>2</th>\n",
       "      <td>36.357511</td>\n",
       "      <td>cylinders</td>\n",
       "    </tr>\n",
       "    <tr>\n",
       "      <th>3</th>\n",
       "      <td>22.906720</td>\n",
       "      <td>horsepower</td>\n",
       "    </tr>\n",
       "    <tr>\n",
       "      <th>4</th>\n",
       "      <td>5.950786</td>\n",
       "      <td>acceleration</td>\n",
       "    </tr>\n",
       "    <tr>\n",
       "      <th>5</th>\n",
       "      <td>3.710437</td>\n",
       "      <td>year</td>\n",
       "    </tr>\n",
       "    <tr>\n",
       "      <th>6</th>\n",
       "      <td>2.573151</td>\n",
       "      <td>origin</td>\n",
       "    </tr>\n",
       "  </tbody>\n",
       "</table>\n",
       "</div>"
      ],
      "text/plain": [
       "   VIF_Factor      Features\n",
       "0   58.544132  displacement\n",
       "1   43.378281        weight\n",
       "2   36.357511     cylinders\n",
       "3   22.906720    horsepower\n",
       "4    5.950786  acceleration\n",
       "5    3.710437          year\n",
       "6    2.573151        origin"
      ]
     },
     "execution_count": 26,
     "metadata": {},
     "output_type": "execute_result"
    }
   ],
   "source": [
    "vif = pd.DataFrame()\n",
    "vif[\"VIF_Factor\"] = [variance_inflation_factor(df_feature.values, i) for i in range(df_feature.shape[1])]\n",
    "vif[\"Features\"] = df_feature.columns\n",
    "vif.sort_values('VIF_Factor', ascending = False).reset_index(drop = True)"
   ]
  },
  {
   "cell_type": "markdown",
   "metadata": {
    "id": "yyCnhyjKRXDw"
   },
   "source": [
    "# PCA\n"
   ]
  },
  {
   "cell_type": "code",
   "execution_count": 27,
   "metadata": {
    "id": "7arzeA6ZRXDx"
   },
   "outputs": [],
   "source": [
    "from sklearn.decomposition import PCA\n",
    "pca = PCA(n_components=4)\n",
    "df_pca=pca.fit_transform(df_feature)"
   ]
  },
  {
   "cell_type": "markdown",
   "metadata": {
    "id": "neYZbs3eeWLt"
   },
   "source": [
    "# Train Test Split"
   ]
  },
  {
   "cell_type": "code",
   "execution_count": 28,
   "metadata": {
    "id": "cjsy5G1ZRXDx"
   },
   "outputs": [],
   "source": [
    "df_target = df['mpg']"
   ]
  },
  {
   "cell_type": "code",
   "execution_count": 29,
   "metadata": {
    "colab": {
     "base_uri": "https://localhost:8080/"
    },
    "id": "hFYXieoqRXDy",
    "outputId": "99bedd69-990d-42b0-81c4-dbacd076245a"
   },
   "outputs": [
    {
     "name": "stdout",
     "output_type": "stream",
     "text": [
      "X_train (260, 4)\n",
      "y_train (260,)\n",
      "X_test (112, 4)\n",
      "y_test (112,)\n"
     ]
    }
   ],
   "source": [
    "y=df_target\n",
    "\n",
    "X_train, X_test, y_train, y_test = train_test_split(df_pca, y, random_state = 1, test_size = 0.3)\n",
    "print('X_train', X_train.shape)\n",
    "print('y_train', y_train.shape)\n",
    "print('X_test', X_test.shape)\n",
    "print('y_test', y_test.shape)"
   ]
  },
  {
   "cell_type": "code",
   "execution_count": 30,
   "metadata": {
    "id": "T-dY8BGueWLu"
   },
   "outputs": [],
   "source": [
    "X_train1 = X_train"
   ]
  },
  {
   "cell_type": "markdown",
   "metadata": {
    "id": "rgx6RQapn41f"
   },
   "source": [
    "# **K-fold Cross-Validation**"
   ]
  },
  {
   "cell_type": "code",
   "execution_count": 31,
   "metadata": {
    "id": "jS80FInpzCWF"
   },
   "outputs": [],
   "source": [
    "from sklearn.model_selection import KFold\n",
    "from sklearn.model_selection import cross_val_score\n",
    "from sklearn.linear_model import LinearRegression\n",
    "from sklearn.linear_model import Ridge\n",
    "from sklearn import linear_model"
   ]
  },
  {
   "cell_type": "code",
   "execution_count": 32,
   "metadata": {
    "id": "zyUkrDN-zaHR"
   },
   "outputs": [],
   "source": [
    "model = LinearRegression()\n",
    "model1  = Ridge(alpha=1, max_iter = 400)\n",
    "model2 = linear_model.Lasso(alpha=0.05 , max_iter = 100)\n",
    "cv = KFold(n_splits=5, random_state=1, shuffle=True)\n",
    "scores = cross_val_score(model, df_pca, y, scoring='r2', cv=cv, n_jobs=-1)\n",
    "cv1 = KFold(n_splits=5, random_state=1, shuffle=True)\n",
    "scores1 = cross_val_score(model1, df_pca, y, scoring='r2', cv=cv, n_jobs=-1)\n",
    "cv2 = KFold(n_splits=5, random_state=1, shuffle=True)\n",
    "scores2 = cross_val_score(model2, df_pca, y, scoring='r2', cv=cv, n_jobs=-1)"
   ]
  },
  {
   "cell_type": "code",
   "execution_count": 33,
   "metadata": {
    "colab": {
     "base_uri": "https://localhost:8080/"
    },
    "id": "Wqh_pTEH1hLm",
    "outputId": "4a46b0df-b962-4aed-fd9c-f3d1eb9196ac"
   },
   "outputs": [
    {
     "name": "stdout",
     "output_type": "stream",
     "text": [
      "For Multiple linear regression model: [0.73278845 0.79642346 0.84812739 0.80585718 0.71697234]\n",
      "\n",
      "For Ridge regression model: [0.73394404 0.7960258  0.8497716  0.80415027 0.7159275 ]\n",
      "\n",
      "For Lasso regression model: [0.52960412 0.52147054 0.6047946  0.55403248 0.48962719]\n"
     ]
    }
   ],
   "source": [
    "print('For Multiple linear regression model:', scores)\n",
    "print('\\nFor Ridge regression model:', scores1)\n",
    "print('\\nFor Lasso regression model:',scores2)"
   ]
  },
  {
   "cell_type": "markdown",
   "metadata": {
    "id": "z6-M2Jd1oHmJ"
   },
   "source": [
    "# Grid-Search CV"
   ]
  },
  {
   "cell_type": "code",
   "execution_count": 34,
   "metadata": {
    "id": "MIxbEZMPoLu5"
   },
   "outputs": [],
   "source": [
    "from sklearn.model_selection import GridSearchCV"
   ]
  },
  {
   "cell_type": "code",
   "execution_count": 35,
   "metadata": {
    "id": "R54Tzw0eoy7L"
   },
   "outputs": [],
   "source": [
    "parameters1 = {'alpha':[1.0, 2 ,0.5 , 3], \n",
    "                     'max_iter' : [400 , 500 , 250 ,370]}\n",
    "\n",
    "parameters2 = {'alpha':[ 0.1, 0.2 , 0.05 , 0.07 ],\n",
    "               'max_iter':[100,150,200,250,300,350,450,500]}\n"
   ]
  },
  {
   "cell_type": "code",
   "execution_count": 36,
   "metadata": {
    "id": "4Fp2wD09quz6"
   },
   "outputs": [],
   "source": [
    "from sklearn.linear_model import Ridge\n",
    "reg1  = Ridge()\n",
    "from sklearn import linear_model\n",
    "reg2 = linear_model.Lasso()"
   ]
  },
  {
   "cell_type": "code",
   "execution_count": 37,
   "metadata": {
    "colab": {
     "base_uri": "https://localhost:8080/"
    },
    "id": "vIB78Wo_o6k-",
    "outputId": "82574ef0-ec21-4816-eb49-3f4b53bb3a77"
   },
   "outputs": [
    {
     "data": {
      "text/plain": [
       "GridSearchCV(cv=5, estimator=Lasso(), n_jobs=-1,\n",
       "             param_grid={'alpha': [0.1, 0.2, 0.05, 0.07],\n",
       "                         'max_iter': [100, 150, 200, 250, 300, 350, 450, 500]})"
      ]
     },
     "execution_count": 37,
     "metadata": {},
     "output_type": "execute_result"
    }
   ],
   "source": [
    "riggrid = GridSearchCV( reg1 , param_grid =parameters1 , cv=5, n_jobs=-1)\n",
    "riggrid.fit(X_train1, y_train)\n",
    "lassogrid = GridSearchCV( reg2 , param_grid =parameters2 , cv=5, n_jobs=-1)\n",
    "lassogrid.fit(X_train1, y_train)"
   ]
  },
  {
   "cell_type": "code",
   "execution_count": 38,
   "metadata": {
    "colab": {
     "base_uri": "https://localhost:8080/"
    },
    "id": "XnLeYZQGpAbZ",
    "outputId": "9b2ce10c-fdce-471d-d480-616bd25c61e5"
   },
   "outputs": [
    {
     "name": "stdout",
     "output_type": "stream",
     "text": [
      " Results from Grid Search for Ridge Regression model \n",
      "\n",
      " The best estimator across ALL searched params:\n",
      " Ridge(max_iter=400)\n",
      "\n",
      " The best score across ALL searched params:\n",
      " 0.7716512809015648\n",
      "\n",
      " The best parameters across ALL searched params:\n",
      " {'alpha': 1.0, 'max_iter': 400}\n"
     ]
    }
   ],
   "source": [
    "print(\" Results from Grid Search for Ridge Regression model \" )\n",
    "print(\"\\n The best estimator across ALL searched params:\\n\",riggrid.best_estimator_)\n",
    "print(\"\\n The best score across ALL searched params:\\n\", riggrid.best_score_)\n",
    "print(\"\\n The best parameters across ALL searched params:\\n\",riggrid.best_params_)"
   ]
  },
  {
   "cell_type": "code",
   "execution_count": 39,
   "metadata": {
    "colab": {
     "base_uri": "https://localhost:8080/"
    },
    "id": "q8wt72Tqt3cU",
    "outputId": "73513e7a-16a1-4d18-b3d8-be34df0bbdc5"
   },
   "outputs": [
    {
     "name": "stdout",
     "output_type": "stream",
     "text": [
      " Results from Grid Search for Lasso Regression model \n",
      "\n",
      " The best estimator across ALL searched params:\n",
      " Lasso(alpha=0.05, max_iter=100)\n",
      "\n",
      " The best score across ALL searched params:\n",
      " 0.5338411423500781\n",
      "\n",
      " The best parameters across ALL searched params:\n",
      " {'alpha': 0.05, 'max_iter': 100}\n"
     ]
    }
   ],
   "source": [
    "print(\" Results from Grid Search for Lasso Regression model \" )\n",
    "print(\"\\n The best estimator across ALL searched params:\\n\",lassogrid.best_estimator_)\n",
    "print(\"\\n The best score across ALL searched params:\\n\", lassogrid.best_score_)\n",
    "print(\"\\n The best parameters across ALL searched params:\\n\",lassogrid.best_params_)"
   ]
  },
  {
   "cell_type": "markdown",
   "metadata": {
    "id": "wwKqq28ZeWLu"
   },
   "source": [
    "# MLR "
   ]
  },
  {
   "cell_type": "code",
   "execution_count": 40,
   "metadata": {
    "id": "fIijtMxEbtVX"
   },
   "outputs": [],
   "source": [
    "X_train=sm.add_constant(X_train)"
   ]
  },
  {
   "cell_type": "code",
   "execution_count": 41,
   "metadata": {
    "colab": {
     "base_uri": "https://localhost:8080/",
     "height": 506
    },
    "id": "kklWPGTeRXDy",
    "outputId": "14ac773a-20af-4a3c-95a5-32879ca1e2e2"
   },
   "outputs": [
    {
     "data": {
      "text/html": [
       "<table class=\"simpletable\">\n",
       "<caption>OLS Regression Results</caption>\n",
       "<tr>\n",
       "  <th>Dep. Variable:</th>           <td>mpg</td>       <th>  R-squared:         </th> <td>   0.784</td>\n",
       "</tr>\n",
       "<tr>\n",
       "  <th>Model:</th>                   <td>OLS</td>       <th>  Adj. R-squared:    </th> <td>   0.781</td>\n",
       "</tr>\n",
       "<tr>\n",
       "  <th>Method:</th>             <td>Least Squares</td>  <th>  F-statistic:       </th> <td>   231.7</td>\n",
       "</tr>\n",
       "<tr>\n",
       "  <th>Date:</th>             <td>Sun, 16 May 2021</td> <th>  Prob (F-statistic):</th> <td>1.22e-83</td>\n",
       "</tr>\n",
       "<tr>\n",
       "  <th>Time:</th>                 <td>19:29:26</td>     <th>  Log-Likelihood:    </th> <td>  244.37</td>\n",
       "</tr>\n",
       "<tr>\n",
       "  <th>No. Observations:</th>      <td>   260</td>      <th>  AIC:               </th> <td>  -478.7</td>\n",
       "</tr>\n",
       "<tr>\n",
       "  <th>Df Residuals:</th>          <td>   255</td>      <th>  BIC:               </th> <td>  -460.9</td>\n",
       "</tr>\n",
       "<tr>\n",
       "  <th>Df Model:</th>              <td>     4</td>      <th>                     </th>     <td> </td>   \n",
       "</tr>\n",
       "<tr>\n",
       "  <th>Covariance Type:</th>      <td>nonrobust</td>    <th>                     </th>     <td> </td>   \n",
       "</tr>\n",
       "</table>\n",
       "<table class=\"simpletable\">\n",
       "<tr>\n",
       "    <td></td>       <th>coef</th>     <th>std err</th>      <th>t</th>      <th>P>|t|</th>  <th>[0.025</th>    <th>0.975]</th>  \n",
       "</tr>\n",
       "<tr>\n",
       "  <th>const</th> <td>    0.3918</td> <td>    0.006</td> <td>   66.082</td> <td> 0.000</td> <td>    0.380</td> <td>    0.403</td>\n",
       "</tr>\n",
       "<tr>\n",
       "  <th>x1</th>    <td>   -0.2874</td> <td>    0.010</td> <td>  -29.163</td> <td> 0.000</td> <td>   -0.307</td> <td>   -0.268</td>\n",
       "</tr>\n",
       "<tr>\n",
       "  <th>x2</th>    <td>   -0.1426</td> <td>    0.019</td> <td>   -7.526</td> <td> 0.000</td> <td>   -0.180</td> <td>   -0.105</td>\n",
       "</tr>\n",
       "<tr>\n",
       "  <th>x3</th>    <td>   -0.1011</td> <td>    0.022</td> <td>   -4.647</td> <td> 0.000</td> <td>   -0.144</td> <td>   -0.058</td>\n",
       "</tr>\n",
       "<tr>\n",
       "  <th>x4</th>    <td>   -0.1288</td> <td>    0.036</td> <td>   -3.545</td> <td> 0.000</td> <td>   -0.200</td> <td>   -0.057</td>\n",
       "</tr>\n",
       "</table>\n",
       "<table class=\"simpletable\">\n",
       "<tr>\n",
       "  <th>Omnibus:</th>       <td>28.524</td> <th>  Durbin-Watson:     </th> <td>   1.805</td>\n",
       "</tr>\n",
       "<tr>\n",
       "  <th>Prob(Omnibus):</th> <td> 0.000</td> <th>  Jarque-Bera (JB):  </th> <td>  58.392</td>\n",
       "</tr>\n",
       "<tr>\n",
       "  <th>Skew:</th>          <td> 0.563</td> <th>  Prob(JB):          </th> <td>2.09e-13</td>\n",
       "</tr>\n",
       "<tr>\n",
       "  <th>Kurtosis:</th>      <td> 5.030</td> <th>  Cond. No.          </th> <td>    6.14</td>\n",
       "</tr>\n",
       "</table><br/><br/>Notes:<br/>[1] Standard Errors assume that the covariance matrix of the errors is correctly specified."
      ],
      "text/plain": [
       "<class 'statsmodels.iolib.summary.Summary'>\n",
       "\"\"\"\n",
       "                            OLS Regression Results                            \n",
       "==============================================================================\n",
       "Dep. Variable:                    mpg   R-squared:                       0.784\n",
       "Model:                            OLS   Adj. R-squared:                  0.781\n",
       "Method:                 Least Squares   F-statistic:                     231.7\n",
       "Date:                Sun, 16 May 2021   Prob (F-statistic):           1.22e-83\n",
       "Time:                        19:29:26   Log-Likelihood:                 244.37\n",
       "No. Observations:                 260   AIC:                            -478.7\n",
       "Df Residuals:                     255   BIC:                            -460.9\n",
       "Df Model:                           4                                         \n",
       "Covariance Type:            nonrobust                                         \n",
       "==============================================================================\n",
       "                 coef    std err          t      P>|t|      [0.025      0.975]\n",
       "------------------------------------------------------------------------------\n",
       "const          0.3918      0.006     66.082      0.000       0.380       0.403\n",
       "x1            -0.2874      0.010    -29.163      0.000      -0.307      -0.268\n",
       "x2            -0.1426      0.019     -7.526      0.000      -0.180      -0.105\n",
       "x3            -0.1011      0.022     -4.647      0.000      -0.144      -0.058\n",
       "x4            -0.1288      0.036     -3.545      0.000      -0.200      -0.057\n",
       "==============================================================================\n",
       "Omnibus:                       28.524   Durbin-Watson:                   1.805\n",
       "Prob(Omnibus):                  0.000   Jarque-Bera (JB):               58.392\n",
       "Skew:                           0.563   Prob(JB):                     2.09e-13\n",
       "Kurtosis:                       5.030   Cond. No.                         6.14\n",
       "==============================================================================\n",
       "\n",
       "Notes:\n",
       "[1] Standard Errors assume that the covariance matrix of the errors is correctly specified.\n",
       "\"\"\""
      ]
     },
     "execution_count": 41,
     "metadata": {},
     "output_type": "execute_result"
    }
   ],
   "source": [
    "MLR_full_model = sm.OLS(y_train, X_train).fit()\n",
    "MLR_full_model.summary()"
   ]
  },
  {
   "cell_type": "markdown",
   "metadata": {
    "id": "pUSZjbhxk380"
   },
   "source": [
    "- >**The R-squared value obtained from this model is 0.703 which means that the above model explains 70.3% of the variation in mpg.**"
   ]
  },
  {
   "cell_type": "markdown",
   "metadata": {
    "id": "im8z4hrueWLw"
   },
   "source": [
    "- > **From the summary we see that p-values of x1,x2 and x3 are less than alpha(0.5),hence these features contribute to the target variable.**\n"
   ]
  },
  {
   "cell_type": "markdown",
   "metadata": {
    "id": "OZEfHau1eWLx"
   },
   "source": [
    "# MLR (using sklearn)"
   ]
  },
  {
   "cell_type": "code",
   "execution_count": 42,
   "metadata": {
    "colab": {
     "base_uri": "https://localhost:8080/"
    },
    "id": "eWWZCk5bZvEk",
    "outputId": "0b84a12f-c16d-43e5-e4e7-06ecf6f12320"
   },
   "outputs": [
    {
     "data": {
      "text/plain": [
       "0.7842394686801729"
      ]
     },
     "execution_count": 42,
     "metadata": {},
     "output_type": "execute_result"
    }
   ],
   "source": [
    "from sklearn.linear_model import LinearRegression\n",
    "reg = LinearRegression().fit(X_train1, y_train)\n",
    "reg.score(X_train1, y_train)"
   ]
  },
  {
   "cell_type": "code",
   "execution_count": 43,
   "metadata": {
    "colab": {
     "base_uri": "https://localhost:8080/"
    },
    "id": "QsN2B7b6cNvI",
    "outputId": "0cdc97ae-3e11-4378-dd08-b35bf5f39bd1"
   },
   "outputs": [
    {
     "data": {
      "text/plain": [
       "0.391782415429493"
      ]
     },
     "execution_count": 43,
     "metadata": {},
     "output_type": "execute_result"
    }
   ],
   "source": [
    "reg.intercept_"
   ]
  },
  {
   "cell_type": "code",
   "execution_count": 44,
   "metadata": {
    "colab": {
     "base_uri": "https://localhost:8080/"
    },
    "id": "kBsbfRCz3T13",
    "outputId": "471a6322-2cce-425f-8553-21f097ec4e20"
   },
   "outputs": [
    {
     "data": {
      "text/plain": [
       "array([-0.28743954, -0.14259086, -0.10113525, -0.12877502])"
      ]
     },
     "execution_count": 44,
     "metadata": {},
     "output_type": "execute_result"
    }
   ],
   "source": [
    "reg.coef_"
   ]
  },
  {
   "cell_type": "code",
   "execution_count": 45,
   "metadata": {
    "id": "jSQtDhHwdXND"
   },
   "outputs": [],
   "source": [
    "y_pred = reg.predict(X_test)"
   ]
  },
  {
   "cell_type": "markdown",
   "metadata": {
    "id": "EVm7BXeFeWLy"
   },
   "source": [
    "# Ridge Regression Model"
   ]
  },
  {
   "cell_type": "code",
   "execution_count": 46,
   "metadata": {
    "colab": {
     "base_uri": "https://localhost:8080/"
    },
    "id": "6VL8lIZkRXDz",
    "outputId": "0ca21236-33bf-4fc5-ccf8-8b43dc743250"
   },
   "outputs": [
    {
     "data": {
      "text/plain": [
       "Ridge(alpha=1, max_iter=400)"
      ]
     },
     "execution_count": 46,
     "metadata": {},
     "output_type": "execute_result"
    }
   ],
   "source": [
    "from sklearn.linear_model import Ridge\n",
    "reg1  = Ridge(alpha=1, max_iter = 400)\n",
    "reg1.fit(X_train1, y_train)"
   ]
  },
  {
   "cell_type": "code",
   "execution_count": 47,
   "metadata": {
    "id": "I7WgN4MHRXD0"
   },
   "outputs": [],
   "source": [
    "y_pred1 = reg1.predict(X_test)"
   ]
  },
  {
   "cell_type": "markdown",
   "metadata": {
    "id": "CYizsHMReWL1"
   },
   "source": [
    "# Lasso Regression Model"
   ]
  },
  {
   "cell_type": "code",
   "execution_count": 48,
   "metadata": {
    "colab": {
     "base_uri": "https://localhost:8080/"
    },
    "id": "T8hyuFfyRXD1",
    "outputId": "322dd6d9-b166-4162-ef8f-e635c1dd190b"
   },
   "outputs": [
    {
     "data": {
      "text/plain": [
       "Lasso(alpha=0.05, max_iter=100)"
      ]
     },
     "execution_count": 48,
     "metadata": {},
     "output_type": "execute_result"
    }
   ],
   "source": [
    "from sklearn import linear_model\n",
    "reg2 = linear_model.Lasso(alpha=0.05 , max_iter = 100)\n",
    "reg2.fit(X_train1 , y_train)"
   ]
  },
  {
   "cell_type": "code",
   "execution_count": 49,
   "metadata": {
    "id": "M6WwEJwfRXD1"
   },
   "outputs": [],
   "source": [
    "y_pred2 = reg2.predict(X_test)"
   ]
  },
  {
   "cell_type": "markdown",
   "metadata": {
    "id": "kWULXl1YeWL3"
   },
   "source": [
    "# Finding RMSE values for all models"
   ]
  },
  {
   "cell_type": "code",
   "execution_count": 50,
   "metadata": {
    "id": "AqbBIdJzYHhF"
   },
   "outputs": [],
   "source": [
    "def rmse( ytrue , ypred):\n",
    "\n",
    "  from sklearn.metrics import mean_squared_error\n",
    "  result = mean_squared_error(ytrue, ypred, squared=False)\n",
    "  return result"
   ]
  },
  {
   "cell_type": "code",
   "execution_count": 51,
   "metadata": {
    "colab": {
     "base_uri": "https://localhost:8080/"
    },
    "id": "nhs4CrATYxV1",
    "outputId": "4b62b27a-be2d-4089-e44c-f1ac904b23e9"
   },
   "outputs": [
    {
     "name": "stdout",
     "output_type": "stream",
     "text": [
      "For Linear regression model 0.09318522974716402\n",
      "\n",
      "For Ridge model 0.09287296355117097\n",
      "\n",
      "For Lasso regression model 0.1330940230937972\n"
     ]
    }
   ],
   "source": [
    "# Test RMSE\n",
    "print('For Linear regression model', rmse(y_test, y_pred))\n",
    "print('\\nFor Ridge model',rmse(y_test, y_pred1))\n",
    "print('\\nFor Lasso regression model', rmse(y_test , y_pred2)) "
   ]
  },
  {
   "cell_type": "code",
   "execution_count": 52,
   "metadata": {
    "id": "ExX2uS7gfX7o"
   },
   "outputs": [],
   "source": [
    "train_pred = reg.predict(X_train1)\n",
    "train_pred1 = reg1.predict(X_train1)\n",
    "train_pred2 = reg2.predict(X_train1)\n",
    "train_pred3 = reg2.predict(X_train1)"
   ]
  },
  {
   "cell_type": "code",
   "execution_count": 53,
   "metadata": {
    "colab": {
     "base_uri": "https://localhost:8080/"
    },
    "id": "K96encpDeWL4",
    "outputId": "b02267c4-42e6-40b7-b1a8-7fed6bde18c6"
   },
   "outputs": [
    {
     "name": "stdout",
     "output_type": "stream",
     "text": [
      "For Linear regression model 0.0945325252825543\n",
      "\n",
      "For Ridge model 0.09461201856342588\n",
      "\n",
      "For Lasso regression model 0.13819487277186313\n"
     ]
    }
   ],
   "source": [
    "# Train RMSE\n",
    "print('For Linear regression model', rmse(y_train, train_pred))\n",
    "print('\\nFor Ridge model',rmse(y_train, train_pred1))\n",
    "print('\\nFor Lasso regression model', rmse(y_train , train_pred2)) "
   ]
  },
  {
   "cell_type": "markdown",
   "metadata": {
    "id": "AR0ek8cXk386"
   },
   "source": [
    "# R-Square"
   ]
  },
  {
   "cell_type": "code",
   "execution_count": 54,
   "metadata": {
    "id": "nwf90X3Vk386"
   },
   "outputs": [],
   "source": [
    "from sklearn.metrics import r2_score\n",
    "def r2(yt,yp):\n",
    "    a=r2_score(yt,yp)\n",
    "    return a    "
   ]
  },
  {
   "cell_type": "code",
   "execution_count": 55,
   "metadata": {
    "colab": {
     "base_uri": "https://localhost:8080/"
    },
    "id": "2DylJ7bmk386",
    "outputId": "7bf99458-195d-41db-c849-7b4227cf825d",
    "scrolled": true
   },
   "outputs": [
    {
     "name": "stdout",
     "output_type": "stream",
     "text": [
      "For Linear Regression : 0.7842394686801729\n",
      "\n",
      "For Ridge model 0.7838764460295197\n",
      "\n",
      "For Lasso regression model 0.5389018872757433\n"
     ]
    }
   ],
   "source": [
    "print('For Linear Regression :',r2(y_train,train_pred))\n",
    "print('\\nFor Ridge model',r2(y_train, train_pred1))\n",
    "print('\\nFor Lasso regression model', r2(y_train , train_pred2)) "
   ]
  },
  {
   "cell_type": "markdown",
   "metadata": {
    "id": "ST70LdYhk386"
   },
   "source": [
    "# Adj R-Square"
   ]
  },
  {
   "cell_type": "code",
   "execution_count": 56,
   "metadata": {
    "id": "UXzGIt5lk387"
   },
   "outputs": [],
   "source": [
    "Nxtr=len(X_train1)\n",
    "k=4"
   ]
  },
  {
   "cell_type": "code",
   "execution_count": 57,
   "metadata": {
    "id": "HJ1yEG2hk387"
   },
   "outputs": [],
   "source": [
    "def adjr2(r2,n,k):\n",
    "    result=1-((1-r2)*(n-1)/(n-k-1))\n",
    "    return result"
   ]
  },
  {
   "cell_type": "code",
   "execution_count": 58,
   "metadata": {
    "colab": {
     "base_uri": "https://localhost:8080/"
    },
    "id": "A1vTcn1Zk387",
    "outputId": "ed3879c3-f19f-432c-fe2e-5d238f14fd07",
    "scrolled": true
   },
   "outputs": [
    {
     "name": "stdout",
     "output_type": "stream",
     "text": [
      "For Linear Regression : 0.780854989757509\n",
      "\n",
      "For Ridge model 0.7804862726339042\n",
      "\n",
      "For Lasso regression model 0.5316689757035981\n"
     ]
    }
   ],
   "source": [
    "print('For Linear Regression :',adjr2(r2(y_train,train_pred),Nxtr,k))\n",
    "print('\\nFor Ridge model',adjr2(r2(y_train, train_pred1),Nxtr,k))\n",
    "print('\\nFor Lasso regression model', adjr2(r2(y_train, train_pred2),Nxtr,k))"
   ]
  },
  {
   "cell_type": "markdown",
   "metadata": {
    "id": "8eOO86gsk388"
   },
   "source": [
    "# Selecting the best model"
   ]
  },
  {
   "cell_type": "code",
   "execution_count": 59,
   "metadata": {
    "colab": {
     "base_uri": "https://localhost:8080/",
     "height": 138
    },
    "id": "RcoXCSUyk388",
    "outputId": "d7474217-5cde-4d11-b53c-4067c1a3d75b",
    "scrolled": true
   },
   "outputs": [
    {
     "data": {
      "text/html": [
       "<div>\n",
       "<style scoped>\n",
       "    .dataframe tbody tr th:only-of-type {\n",
       "        vertical-align: middle;\n",
       "    }\n",
       "\n",
       "    .dataframe tbody tr th {\n",
       "        vertical-align: top;\n",
       "    }\n",
       "\n",
       "    .dataframe thead th {\n",
       "        text-align: right;\n",
       "    }\n",
       "</style>\n",
       "<table border=\"1\" class=\"dataframe\">\n",
       "  <thead>\n",
       "    <tr style=\"text-align: right;\">\n",
       "      <th></th>\n",
       "      <th>Model</th>\n",
       "      <th>R-Square</th>\n",
       "      <th>Adj R-Square</th>\n",
       "      <th>Train RMSE</th>\n",
       "      <th>Test RMSE</th>\n",
       "    </tr>\n",
       "  </thead>\n",
       "  <tbody>\n",
       "    <tr>\n",
       "      <th>0</th>\n",
       "      <td>Linear Regression</td>\n",
       "      <td>0.784239</td>\n",
       "      <td>0.780855</td>\n",
       "      <td>0.094533</td>\n",
       "      <td>0.093185</td>\n",
       "    </tr>\n",
       "    <tr>\n",
       "      <th>1</th>\n",
       "      <td>Ridge model</td>\n",
       "      <td>0.783876</td>\n",
       "      <td>0.780486</td>\n",
       "      <td>0.094612</td>\n",
       "      <td>0.092873</td>\n",
       "    </tr>\n",
       "    <tr>\n",
       "      <th>2</th>\n",
       "      <td>Lasso regression</td>\n",
       "      <td>0.538902</td>\n",
       "      <td>0.531669</td>\n",
       "      <td>0.138195</td>\n",
       "      <td>0.133094</td>\n",
       "    </tr>\n",
       "  </tbody>\n",
       "</table>\n",
       "</div>"
      ],
      "text/plain": [
       "               Model  R-Square  Adj R-Square  Train RMSE  Test RMSE\n",
       "0  Linear Regression  0.784239      0.780855    0.094533   0.093185\n",
       "1        Ridge model  0.783876      0.780486    0.094612   0.092873\n",
       "2   Lasso regression  0.538902      0.531669    0.138195   0.133094"
      ]
     },
     "execution_count": 59,
     "metadata": {},
     "output_type": "execute_result"
    }
   ],
   "source": [
    "finalmodel=pd.DataFrame({'Model':['Linear Regression','Ridge model','Lasso regression'],\n",
    "                         'R-Square':[r2(y_train,train_pred),r2(y_train, train_pred1),r2(y_train , train_pred2)],\n",
    "                        'Adj R-Square':[adjr2(r2(y_train,train_pred),Nxtr,k),adjr2(r2(y_train,train_pred1),Nxtr,k),adjr2(r2(y_train,train_pred2),Nxtr,k)],\n",
    "                        'Train RMSE':[rmse(y_train, train_pred),rmse(y_train, train_pred1),rmse(y_train, train_pred2)],\n",
    "                        'Test RMSE':[rmse(y_test, y_pred),rmse(y_test, y_pred1),rmse(y_test, y_pred2)]})\n",
    "finalmodel"
   ]
  },
  {
   "cell_type": "markdown",
   "metadata": {
    "id": "d5k1XY9GK3mx"
   },
   "source": [
    "- >**R-Square and Adjusted R-Square for ElasticNet Regression model were negative so we have omitted ElasticNet regression model.**"
   ]
  },
  {
   "cell_type": "markdown",
   "metadata": {
    "id": "nObud0HHk388"
   },
   "source": [
    "#                      Happy Machine Learning, Thank you!!! "
   ]
  }
 ],
 "metadata": {
  "colab": {
   "collapsed_sections": [],
   "name": "Final_Final.ipynb",
   "provenance": []
  },
  "kernelspec": {
   "display_name": "Python 3",
   "language": "python",
   "name": "python3"
  },
  "language_info": {
   "codemirror_mode": {
    "name": "ipython",
    "version": 3
   },
   "file_extension": ".py",
   "mimetype": "text/x-python",
   "name": "python",
   "nbconvert_exporter": "python",
   "pygments_lexer": "ipython3",
   "version": "3.8.5"
  }
 },
 "nbformat": 4,
 "nbformat_minor": 1
}
